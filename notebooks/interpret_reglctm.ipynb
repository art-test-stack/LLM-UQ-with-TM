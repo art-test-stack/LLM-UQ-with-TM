{
 "cells": [
  {
   "cell_type": "code",
   "execution_count": null,
   "id": "90ed24e9",
   "metadata": {},
   "outputs": [],
   "source": [
    "import sys\n",
    "sys.path.append('..')\n",
    "\n",
    "from utils import mplplots_dir, mplstyle_file\n",
    "\n",
    "import matplotlib as mpl\n",
    "mpl.rcParams['text.usetex'] = True\n",
    "from matplotlib import pyplot as plt\n",
    "plt.style.use(mplstyle_file)\n",
    "import numpy as np\n",
    "import pickle\n",
    "\n",
    "from llm.utils import get_model_dir\n",
    "from lctm.get_interpretability import LCTMResults\n",
    "from pathlib import Path\n",
    "\n",
    "llm_name = \"Llama-3.2-3B-Instruct\"\n",
    "\n",
    "hist_dir = Path(mplplots_dir).joinpath(\"histograms\")\n",
    "if not hist_dir.exists():\n",
    "    hist_dir.mkdir(parents=True)\n",
    "    \n",
    "lctms = LCTMResults(llm_name=llm_name, verbose=False, save_figs=True)\n",
    "llm_dir = get_model_dir(llm_name)\n",
    "with open(llm_dir.joinpath(\"history.pickle\"), 'rb') as f:\n",
    "\tllm_hist = pickle.load(f)\n",
    "\n",
    "lctms.verbose = False\n",
    "for example in range(len(lctms)):\n",
    "\tlctm_eg = lctms[example]\n",
    "\tprint(f\"Length of example: {len(lctm_eg)}\")\n",
    "\tfor res_id in range(len(lctm_eg)):\n",
    "\t\tprint(f\"Processing {lctms.llm_name} {lctm_eg.current}\")\n",
    "\t\tres = lctm_eg[res_id]\n",
    "\t\tlctm_eg.plot_clauses_matrix()\n",
    "\t\tlctm_eg.plot_number_of_elements_by_class()\n",
    "\t\tlctm_eg.plot_epochs()\n",
    "\n",
    "\t\tids_by_class = lctm_eg.get_epochs_by_class()"
   ]
  }
 ],
 "metadata": {
  "language_info": {
   "name": "python"
  }
 },
 "nbformat": 4,
 "nbformat_minor": 5
}
