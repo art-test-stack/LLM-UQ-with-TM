{
 "cells": [
  {
   "cell_type": "code",
   "execution_count": null,
   "id": "e90598ee",
   "metadata": {},
   "outputs": [],
   "source": [
    "import sys\n",
    "sys.path.append('..')\n",
    "\n",
    "from utils import mplplots_dir, mplstyle_file\n",
    "\n",
    "import matplotlib as mpl\n",
    "mpl.rcParams['text.usetex'] = True\n",
    "from matplotlib import pyplot as plt\n",
    "plt.style.use(mplstyle_file)\n",
    "\n",
    "from llm.result import TrainingResult\n",
    "from pathlib import Path\n",
    "\n",
    "import json\n",
    "output_path = Path(mplplots_dir).joinpath(\"L3B-i_18.json\")\n",
    "with open(output_path, \"r\") as f:\n",
    "\tids_by_class = json.load(f)\n",
    "      \n",
    "hist_dir = Path(mplplots_dir).joinpath(\"histograms\")\n",
    "if not hist_dir.exists():\n",
    "    hist_dir.mkdir(parents=True)\n",
    "llm_name = \"Llama-3.2-3B-Instruct\"\n",
    "\n",
    "tr = TrainingResult(model_name=llm_name, verbose=False, save=True)\n",
    "\n",
    "tr.plot_answer_types()\n",
    "\n",
    "tr.plot_epoch_data()\n",
    "tr.plot_grad_histogram()\n",
    "tr.plot_average_confidence_by_cluster(ids_by_cluster=ids_by_class)\n",
    "tr.plot_top_batch_ids_answer_types_by_features_outliers(\n",
    "\tfeatures=[\"grad_dir\"],\n",
    "\tepochs_by_class=ids_by_class,\n",
    "\toutliers=[\"$<-4\\sigma$\", \"$-4\\sigma$-$-3\\sigma$\", \"$3\\sigma$-$4\\sigma$\", \"$>4\\sigma$\"],\n",
    ")"
   ]
  }
 ],
 "metadata": {
  "language_info": {
   "name": "python"
  }
 },
 "nbformat": 4,
 "nbformat_minor": 5
}
